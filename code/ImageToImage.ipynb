{
 "cells": [
  {
   "cell_type": "code",
   "execution_count": null,
   "metadata": {},
   "outputs": [],
   "source": [
    "import torch\n",
    "from torch import autocast\n",
    "from diffusers import EulerDiscreteScheduler, StableDiffusionImg2ImgPipeline\n",
    "from google.colab import files\n",
    "from PIL import Image\n",
    "from tqdm.auto import tqdm\n",
    "from random import randint\n",
    "from accelerate import accelerator"
   ]
  },
  {
   "cell_type": "code",
   "execution_count": null,
   "metadata": {},
   "outputs": [],
   "source": [
    "def sd_imgtoimg_pipeline(pipe, token):\n",
    "    if pipe == None:\n",
    "        # print(\"없음\")\n",
    "        device = \"cuda\"\n",
    "        accelerator = Accelerator()\n",
    "        device = accelerator.device\n",
    "        model_path = \"stabilityai/stable-diffusion-2\"\n",
    "\n",
    "        pipe = StableDiffusionImg2ImgPipeline.from_pretrained(\n",
    "            model_path,\n",
    "            revision=\"fp16\", \n",
    "            torch_dtype=torch.float16,\n",
    "            use_auth_token=token\n",
    "        ).to(device)\n",
    "        \n",
    "    return pipe\n",
    "\n",
    "# Img 2 Img 함수 선언\n",
    "\n",
    "def sd_imgtoimg_function(prompt, pipe, file_name, seed = None):\n",
    "    iamge = Image.open(file_name).convert(\"RGB\").resize((768,512), resample=Image.LANCZOS)\n",
    "\n",
    "    device = \"cuda\"\n",
    "    accelerator = Accelerator()\n",
    "    device = accelerator.device\n",
    "\n",
    "    if seed == None:\n",
    "        seed_no = randint(1, 999999999)\n",
    "    else:\n",
    "        seed_no = seed\n",
    "\n",
    "    generator = torch.Generator(device=device).manual_seed(seed_no)\n",
    "    with autocast(device):\n",
    "        image = pipe(prompt=prompt, init_image=image, strength=0.6, guidance_scale=7.5, generator=generator).images[0]\n",
    "\n",
    "    return image"
   ]
  },
  {
   "cell_type": "code",
   "execution_count": null,
   "metadata": {},
   "outputs": [],
   "source": [
    "try:\n",
    "    pipe\n",
    "except:\n",
    "    pipe = None\n",
    "    \n",
    "pipe = sd_imgtoimg_pipeline(pipe, token)\n",
    "\n",
    "\n",
    "sd_imgtoimg_function(prompt, pipe, image, seed = None)"
   ]
  }
 ],
 "metadata": {
  "kernelspec": {
   "display_name": "base",
   "language": "python",
   "name": "python3"
  },
  "language_info": {
   "name": "python",
   "version": "3.9.13 (main, Aug 25 2022, 23:51:50) [MSC v.1916 64 bit (AMD64)]"
  },
  "orig_nbformat": 4,
  "vscode": {
   "interpreter": {
    "hash": "a077222d77dfe082b8f1dd562ad70e458ac2ab76993a0b248ab0476e32e9e8dd"
   }
  }
 },
 "nbformat": 4,
 "nbformat_minor": 2
}
